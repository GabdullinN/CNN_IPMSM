{
 "cells": [
  {
   "cell_type": "code",
   "execution_count": 10,
   "metadata": {},
   "outputs": [
    {
     "name": "stdout",
     "output_type": "stream",
     "text": [
      "model is created\n"
     ]
    }
   ],
   "source": [
    "### This file containes codes written as part of the research \"Towards End-to-end Deep Learning Analysis of Electrical Machines\"\n",
    "### The manuscript is available at:\n",
    "### https://www.techrxiv.org/articles/preprint/Towards_End-to-end_Deep_Learning_Analysis_of_Electrical_Machines/13134932/1\n",
    "### The datasets are available at:\n",
    "### https://data.mendeley.com/datasets/j7bbrmmn4k/1\n",
    "\n",
    "### Codes here are set up to work with datasets that have \"torque curves\" data\n",
    "### For average torque datasets please see another file "
   ]
  },
  {
   "cell_type": "code",
   "execution_count": 19,
   "metadata": {},
   "outputs": [
    {
     "name": "stdout",
     "output_type": "stream",
     "text": [
      "model is created\n"
     ]
    }
   ],
   "source": [
    "### Custom shallow 3-layer network\n",
    "\n",
    "import os, os.path\n",
    "import cv2\n",
    "import numpy as np\n",
    "import time\n",
    "from tqdm import tqdm\n",
    "import torch\n",
    "import torch.nn as nn\n",
    "import torch.nn.functional as F\n",
    "import torch.optim as optim\n",
    "from torch.utils.data import Dataset, DataLoader\n",
    "\n",
    "import csv\n",
    "import pandas as pd\n",
    "\n",
    "img_size = 56\n",
    "\n",
    "class Net(nn.Module):\n",
    "    def __init__(self):\n",
    "        super().__init__()\n",
    "        self.conv1 = nn.Conv2d(1, 32, 5)\n",
    "        self.conv2 = nn.Conv2d(32, 64, 5)\n",
    "        self.conv3 = nn.Conv2d(64, 128, 5) \n",
    "\n",
    "        x = torch.randn(img_size,img_size).view(-1,1,img_size,img_size) \n",
    "        self._to_linear = None\n",
    "        self.convs(x)\n",
    "\n",
    "        self.fc1 = nn.Linear(self._to_linear, 512)\n",
    "        self.fc2 = nn.Linear(512, 91)\n",
    "\n",
    "    def convs(self, x):\n",
    "        x = F.max_pool2d(F.relu(self.conv1(x)), (2,2)) \n",
    "        x = F.max_pool2d(F.relu(self.conv2(x)), (2,2))\n",
    "        x = F.max_pool2d(F.relu(self.conv3(x)), (2,2))\n",
    "\n",
    "        if self._to_linear is None:\n",
    "            self._to_linear = x[0].shape[0]*x[0].shape[1]*x[0].shape[2]\n",
    "        return x\n",
    "\n",
    "    def forward(self, x):\n",
    "        x = self.convs(x)\n",
    "        x = x.view(-1, self._to_linear)\n",
    "        x = F.relu(self.fc1(x)) \n",
    "        x = self.fc2(x)\n",
    "        return x \n",
    "    \n",
    "device = 'cuda' if torch.cuda.is_available() else 'cpu'\n",
    "\n",
    "net = Net().to(device)\n",
    "\n",
    "print(\"model is created\")"
   ]
  },
  {
   "cell_type": "code",
   "execution_count": 20,
   "metadata": {},
   "outputs": [
    {
     "name": "stdout",
     "output_type": "stream",
     "text": [
      "model is created\n"
     ]
    }
   ],
   "source": [
    "### ResNet models\n",
    "\n",
    "import os, os.path\n",
    "import cv2\n",
    "import numpy as np\n",
    "import time\n",
    "from tqdm import tqdm\n",
    "import torch\n",
    "import torch.nn as nn\n",
    "import torch.nn.functional as F\n",
    "import torch.optim as optim\n",
    "from torch.utils.data import Dataset, DataLoader\n",
    "\n",
    "import csv\n",
    "import pandas as pd\n",
    "\n",
    "class block(nn.Module):\n",
    "    def __init__(self, in_channels, intermediate_channels, identity_downsample=None, stride=1):\n",
    "        super(block, self).__init__()\n",
    "        self.expansion = 4\n",
    "        self.conv1 = nn.Conv2d(in_channels, intermediate_channels, kernel_size = 1, stride=1, padding=0)\n",
    "        self.bn1 = nn.BatchNorm2d(intermediate_channels)\n",
    "        self.conv2 = nn.Conv2d(intermediate_channels, intermediate_channels, \n",
    "                               kernel_size = 3, stride=stride, padding=1)\n",
    "        self.bn2 = nn.BatchNorm2d(intermediate_channels)\n",
    "        self.conv3 = nn.Conv2d(intermediate_channels, intermediate_channels*self.expansion, \n",
    "                               kernel_size = 1, stride=1, padding=0)\n",
    "        self.bn3 = nn.BatchNorm2d(intermediate_channels*self.expansion)\n",
    "        self.relu = nn.ReLU()\n",
    "        self.identity_downsample = identity_downsample\n",
    "        self.stride = stride\n",
    "        \n",
    "    def forward(self, x):\n",
    "        identity = x\n",
    "\n",
    "        x = self.conv1(x)\n",
    "        x = self.bn1(x)\n",
    "        x = self.relu(x)\n",
    "        x = self.conv2(x)\n",
    "        x = self.bn2(x)\n",
    "        x = self.relu(x)\n",
    "        x = self.conv3(x)\n",
    "        x = self.bn3(x)\n",
    "        \n",
    "        if self.identity_downsample is not None:\n",
    "            identity = self.identity_downsample(identity)\n",
    "\n",
    "        x += identity\n",
    "        x = self.relu(x)\n",
    "        return x\n",
    "        \n",
    "class ResNet(nn.Module):\n",
    "    def __init__(self, block, layers, image_channels, num_classes):\n",
    "        super(ResNet, self).__init__()\n",
    "        self.in_channels = 64\n",
    "        self.conv1 = nn.Conv2d(image_channels, 64, kernel_size=7, stride=2, padding=3)\n",
    "        self.bn1 = nn.BatchNorm2d(64)\n",
    "        self.relu = nn.ReLU()\n",
    "        self.maxpool = nn.MaxPool2d(kernel_size=3, stride=2, padding=1)\n",
    "        \n",
    "        self.layer1 = self._make_layer(block, layers[0], intermediate_channels = 64, stride=1)\n",
    "        self.layer2 = self._make_layer(block, layers[1], intermediate_channels = 128, stride = 2)\n",
    "        self.layer3 = self._make_layer(block, layers[2], intermediate_channels = 256, stride = 2)\n",
    "        self.layer4 = self._make_layer(block, layers[3], intermediate_channels = 512, stride = 2)\n",
    "        \n",
    "        self.avgpool = nn.AdaptiveAvgPool2d((1, 1))\n",
    "        self.fc = nn.Linear(512 * 4, num_classes)\n",
    "    \n",
    "    def forward(self, x):\n",
    "        x = self.conv1(x)\n",
    "        x = self.bn1(x)\n",
    "        x = self.relu(x)\n",
    "        x = self.maxpool(x)\n",
    "        x = self.layer1(x)\n",
    "        x = self.layer2(x)\n",
    "        x = self.layer3(x)\n",
    "        x = self.layer4(x)\n",
    "\n",
    "        x = self.avgpool(x)\n",
    "        x = x.reshape(x.shape[0], -1)\n",
    "        x = self.fc(x)\n",
    "\n",
    "        return x\n",
    "        \n",
    "    def _make_layer(self, block, num_residual_blocks, intermediate_channels, stride):\n",
    "        identity_downsample = None\n",
    "        layers = []\n",
    "        \n",
    "        if stride != 1 or self.in_channels != intermediate_channels * 4:\n",
    "            identity_downsample = nn.Sequential(nn.Conv2d(self.in_channels, intermediate_channels*4, kernel_size=1,\n",
    "                                                          stride=stride),\n",
    "                                                nn.BatchNorm2d(intermediate_channels*4))\n",
    "        \n",
    "        layers.append(block(self.in_channels, intermediate_channels, identity_downsample, stride))\n",
    "        self.in_channels = intermediate_channels * 4\n",
    "        \n",
    "        for i in range(num_residual_blocks - 1):\n",
    "            layers.append(block(self.in_channels, intermediate_channels))\n",
    "            \n",
    "        return nn.Sequential(*layers)\n",
    "    \n",
    "def ResNet50(img_channel=1,num_classes=1):\n",
    "    num_classes = num_classes\n",
    "    return ResNet(block, [3, 4, 6, 3], img_channel, num_classes) #modify values in brackets according to desired ResNet architectures\n",
    "    \n",
    "device = 'cuda' if torch.cuda.is_available() else 'cpu'\n",
    "\n",
    "net = ResNet50(img_channel=1,num_classes=91).to(device)\n",
    "\n",
    "print(\"model is created\")  "
   ]
  },
  {
   "cell_type": "code",
   "execution_count": 21,
   "metadata": {},
   "outputs": [
    {
     "name": "stdout",
     "output_type": "stream",
     "text": [
      "all, training, val lengths:  4054 3244 810\n",
      "data is loaded\n"
     ]
    }
   ],
   "source": [
    "MODEL_NAME = f\"model-{int(time.time())}\"\n",
    "\n",
    "all_data = np.load(\"56_curves_conv_norm.npy\", allow_pickle=True) \n",
    "\n",
    "VAL_PCT = 0.2\n",
    "val_size = int(len(all_data)*VAL_PCT)\n",
    "\n",
    "training_data = all_data[:-val_size].tolist()\n",
    "validation_data = all_data[-val_size:].tolist()\n",
    "print(\"all, training, val lengths: \", len(all_data),len(training_data),len(validation_data))\n",
    "\n",
    "loader_train = DataLoader(training_data, batch_size=64,num_workers=0,pin_memory = True)\n",
    "loader_val = DataLoader(validation_data, batch_size=8,num_workers=0,pin_memory = True)\n",
    "\n",
    "img_size = 56\n",
    "\n",
    "print(\"data is loaded\")\n",
    "\n",
    "log_val_acc = []\n",
    "log_val_loss = []"
   ]
  },
  {
   "cell_type": "code",
   "execution_count": 22,
   "metadata": {},
   "outputs": [
    {
     "name": "stdout",
     "output_type": "stream",
     "text": [
      "functions have been defined\n"
     ]
    }
   ],
   "source": [
    "optimizer = optim.Adam(net.parameters(), lr=0.001)\n",
    "scheduler = torch.optim.lr_scheduler.MultiStepLR(optimizer, milestones=[70,140,190], gamma=0.1)\n",
    "loss_function = nn.MSELoss()     \n",
    "\n",
    "def fwd_pass(X, y, train=False): #train false is used for validation, and true is used for training\n",
    "\n",
    "    if train:\n",
    "        net.zero_grad() #sets gradients to zero before forward pass\n",
    "    outputs = net(X) #forward pass\n",
    "    error = [abs(torch.mean(i-j)) / torch.mean(j) for i, j in zip(outputs, y)]\n",
    "    for ind,er in enumerate(error):\n",
    "        if er > 1:\n",
    "            error[ind] = 1\n",
    "        elif er < 0:\n",
    "            error[ind] = 0\n",
    "    #print(error)\n",
    "    acc = 1 - sum(error)/len(error)\n",
    "    loss = loss_function(outputs, y) #computes losses\n",
    "    loss = loss * 100 #modified to avoid extremely small numbers, speeds up training\n",
    "    \n",
    "    if train:\n",
    "        loss.backward() #backprop\n",
    "        optimizer.step() #runs the optimizer\n",
    "\n",
    "    return acc, loss\n",
    "\n",
    "def train(net):\n",
    "    BATCH_SIZE = 8 #this parameter is used only for validation \n",
    "    EPOCHS = 210\n",
    "\n",
    "    with open(\"model.log\", \"a\") as f:\n",
    "        for epoch in range(EPOCHS):\n",
    "            #print(\"current epoch: \", epoch)\n",
    "            if (epoch+1)%1000 == 0: #for progress tracking\n",
    "                print(\"training {}th epoch(+1)\".format(epoch+1))\n",
    "                val_acc, val_loss = test(size=BATCH_SIZE)\n",
    "                print(val_acc, val_loss)\n",
    "                log_val_acc.append(val_acc)\n",
    "                log_val_loss.append(val_loss)\n",
    "                for param_group in optimizer.param_groups: #learning rate tracking to check scheduler\n",
    "                    print(\"checking learning rate! epoch {}, lr {}\".format(epoch, param_group['lr']))\n",
    "                    \n",
    "            if epoch == 0 or epoch%20 == 0 or epoch == (EPOCHS-1): #saving the weights dictionary\n",
    "                torch.save(net.state_dict(), \"model_states/state_ResNet_ally_epoch_{}.pt\".format(epoch+1))\n",
    "            \n",
    "            for i, data in enumerate(tqdm(loader_train)):\n",
    "                \n",
    "                batch_X = data[0]\n",
    "                batch_y = data[1]\n",
    "                \n",
    "                batch_X = batch_X.view(-1,1,img_size,img_size)\n",
    "                batch_y = batch_y.view(-1,91)\n",
    "\n",
    "                batch_X, batch_y = batch_X.to(device, dtype=torch.float), batch_y.to(device, dtype = torch.float)\n",
    "\n",
    "                acc, loss = fwd_pass(batch_X, batch_y, train=True)  \n",
    "                \n",
    "            if (epoch+1)%5 == 0: #progress tracking\n",
    "                print(\"training loss in {}th epoch(+1)\".format(epoch+1))\n",
    "                print(acc, loss)\n",
    "                for param_group in optimizer.param_groups:\n",
    "                    print(\"checking learning rate! epoch {}, lr {}\".format(epoch, param_group['lr']))\n",
    "            \n",
    "            scheduler.step()\n",
    "                        \n",
    "def test(size=8):\n",
    "    BATCH_SIZE = size\n",
    "    X = torch.Tensor([i[0] for i in validation_data[:BATCH_SIZE]])\n",
    "    y = torch.Tensor([i[1] for i in validation_data[:BATCH_SIZE]]) \n",
    "    X = X.view(-1,1,img_size,img_size).to(device, dtype = torch.float)\n",
    "    y = y.view(-1,1).to(device)\n",
    "    val_acc, val_loss = fwd_pass(X, y)\n",
    "      \n",
    "    return val_acc, val_loss\n",
    "\n",
    "print(\"functions have been defined\")\n",
    "\n",
    "#lines below are only for validation on a previously trained CNN with parameters stored in a file \"dictionary_name.pt\"\n",
    "\n",
    "#net.load_state_dict(torch.load(\"dictionary_name.pt\",map_location=\"cuda:0\"))\n",
    "#net.eval()"
   ]
  },
  {
   "cell_type": "code",
   "execution_count": null,
   "metadata": {},
   "outputs": [
    {
     "name": "stderr",
     "output_type": "stream",
     "text": [
      " 27%|██▋       | 14/51 [00:03<00:06,  5.73it/s]"
     ]
    }
   ],
   "source": [
    "### CNN training, set EPOCHS = 20 for speed, e.g. when debugging the code\n",
    "train(net)\n",
    "print(\"finished\")"
   ]
  },
  {
   "cell_type": "code",
   "execution_count": 6,
   "metadata": {},
   "outputs": [
    {
     "name": "stdout",
     "output_type": "stream",
     "text": [
      "calculated:  tensor([[ 6.0555e-01, -6.9549e-01, -3.8460e-01,  2.5841e-01, -2.1204e-01,\n",
      "          1.0263e+00,  5.3295e-01,  2.8728e-01, -7.6595e-01,  4.7685e-01,\n",
      "         -4.4018e-01,  4.6827e-01,  9.2483e-01,  2.0671e-01,  1.1555e+00,\n",
      "          7.3695e-01, -8.3726e-01, -1.9910e-01, -2.5396e-01, -4.4690e-01,\n",
      "         -7.7410e-02, -7.0850e-01,  2.9028e-01,  5.7970e-01,  1.9333e-02,\n",
      "         -1.3206e-01, -3.7686e-02, -1.7427e-01,  1.2729e-01,  6.9417e-01,\n",
      "          3.1325e-01, -6.6987e-02,  3.5701e-01, -1.1257e+00,  1.4990e-01,\n",
      "          3.9732e-01,  5.3935e-01, -7.0519e-01,  3.4883e-01,  7.8798e-01,\n",
      "          8.6393e-01,  2.1572e-01,  3.6367e-02,  6.0215e-01,  1.1188e+00,\n",
      "          6.1932e-01,  5.8289e-01,  6.4391e-01,  5.7743e-01,  1.3260e+00,\n",
      "         -8.2441e-01,  1.0067e-01,  7.6249e-02, -5.8041e-02, -8.0108e-02,\n",
      "          6.7258e-01, -1.2839e+00, -4.9027e-01,  2.9909e-01, -5.0322e-02,\n",
      "          7.8048e-01, -3.4159e-01,  1.5393e-01, -9.7180e-01,  5.1530e-01,\n",
      "         -1.3664e+00, -8.5702e-01, -5.4868e-01,  2.1571e-02,  5.0454e-01,\n",
      "         -3.9717e-01,  1.2845e-03, -9.0852e-01,  1.4832e-01,  3.4734e-01,\n",
      "          4.8147e-01,  2.4205e-01,  9.7323e-02,  3.9922e-01, -7.4152e-01,\n",
      "          4.1034e-01, -1.5199e-01,  1.6309e+00, -3.2035e-01,  4.8452e-01,\n",
      "          6.1162e-01,  8.6546e-02, -2.2486e-01,  3.6186e-02,  3.5746e-02,\n",
      "          2.2768e-01]], device='cuda:0', grad_fn=<AddmmBackward>)\n",
      "expected:  tensor(0.2762)\n"
     ]
    }
   ],
   "source": [
    "### For a manual check upon training is finished\n",
    "X = torch.Tensor(all_data[0][0])\n",
    "y_label = torch.Tensor([i[1] for i in all_data[:2]])  \n",
    "y_label = y_label[0]\n",
    "y = net(X.view(-1,1,img_size,img_size).to(device))\n",
    "print(\"calculated: \", y)\n",
    "print(\"expected: \", y_label)"
   ]
  },
  {
   "cell_type": "code",
   "execution_count": 7,
   "metadata": {},
   "outputs": [
    {
     "ename": "TypeError",
     "evalue": "new(): data must be a sequence (got numpy.float64)",
     "output_type": "error",
     "traceback": [
      "\u001b[1;31m---------------------------------------------------------------------------\u001b[0m",
      "\u001b[1;31mTypeError\u001b[0m                                 Traceback (most recent call last)",
      "\u001b[1;32m<ipython-input-7-5e8be106db1a>\u001b[0m in \u001b[0;36m<module>\u001b[1;34m\u001b[0m\n\u001b[0;32m     12\u001b[0m \u001b[0mX_one\u001b[0m \u001b[1;33m=\u001b[0m \u001b[0mtorch\u001b[0m\u001b[1;33m.\u001b[0m\u001b[0mTensor\u001b[0m\u001b[1;33m(\u001b[0m\u001b[0mall_data\u001b[0m\u001b[1;33m[\u001b[0m\u001b[0mcheck_one\u001b[0m\u001b[1;33m]\u001b[0m\u001b[1;33m[\u001b[0m\u001b[1;36m0\u001b[0m\u001b[1;33m]\u001b[0m\u001b[1;33m)\u001b[0m\u001b[1;33m\u001b[0m\u001b[1;33m\u001b[0m\u001b[0m\n\u001b[0;32m     13\u001b[0m \u001b[0my_label\u001b[0m \u001b[1;33m=\u001b[0m \u001b[0mtorch\u001b[0m\u001b[1;33m.\u001b[0m\u001b[0mTensor\u001b[0m\u001b[1;33m(\u001b[0m\u001b[1;33m[\u001b[0m\u001b[0mi\u001b[0m\u001b[1;33m[\u001b[0m\u001b[1;36m1\u001b[0m\u001b[1;33m]\u001b[0m \u001b[1;32mfor\u001b[0m \u001b[0mi\u001b[0m \u001b[1;32min\u001b[0m \u001b[0mall_data\u001b[0m\u001b[1;33m[\u001b[0m\u001b[0mcheck_one\u001b[0m\u001b[1;33m:\u001b[0m\u001b[0mcheck_one\u001b[0m\u001b[1;33m+\u001b[0m\u001b[1;36m1\u001b[0m\u001b[1;33m]\u001b[0m\u001b[1;33m]\u001b[0m\u001b[1;33m)\u001b[0m\u001b[1;33m\u001b[0m\u001b[1;33m\u001b[0m\u001b[0m\n\u001b[1;32m---> 14\u001b[1;33m \u001b[0my_one\u001b[0m \u001b[1;33m=\u001b[0m \u001b[0mtorch\u001b[0m\u001b[1;33m.\u001b[0m\u001b[0mTensor\u001b[0m\u001b[1;33m(\u001b[0m\u001b[0mall_data\u001b[0m\u001b[1;33m[\u001b[0m\u001b[0mcheck_one\u001b[0m\u001b[1;33m]\u001b[0m\u001b[1;33m[\u001b[0m\u001b[1;36m1\u001b[0m\u001b[1;33m]\u001b[0m\u001b[1;33m)\u001b[0m\u001b[1;33m\u001b[0m\u001b[1;33m\u001b[0m\u001b[0m\n\u001b[0m\u001b[0;32m     15\u001b[0m \u001b[0moutput_check\u001b[0m \u001b[1;33m=\u001b[0m \u001b[0mnet\u001b[0m\u001b[1;33m(\u001b[0m\u001b[0mX_one\u001b[0m\u001b[1;33m.\u001b[0m\u001b[0mview\u001b[0m\u001b[1;33m(\u001b[0m\u001b[1;33m-\u001b[0m\u001b[1;36m1\u001b[0m\u001b[1;33m,\u001b[0m \u001b[1;36m1\u001b[0m\u001b[1;33m,\u001b[0m \u001b[0mimg_size\u001b[0m\u001b[1;33m,\u001b[0m \u001b[0mimg_size\u001b[0m\u001b[1;33m)\u001b[0m\u001b[1;33m.\u001b[0m\u001b[0mto\u001b[0m\u001b[1;33m(\u001b[0m\u001b[0mdevice\u001b[0m\u001b[1;33m)\u001b[0m\u001b[1;33m)\u001b[0m\u001b[1;33m\u001b[0m\u001b[1;33m\u001b[0m\u001b[0m\n\u001b[0;32m     16\u001b[0m \u001b[0my_net\u001b[0m \u001b[1;33m=\u001b[0m \u001b[0moutput_check\u001b[0m\u001b[1;33m[\u001b[0m\u001b[1;36m0\u001b[0m\u001b[1;33m]\u001b[0m\u001b[1;33m.\u001b[0m\u001b[0mcpu\u001b[0m\u001b[1;33m(\u001b[0m\u001b[1;33m)\u001b[0m \u001b[1;31m#copying NN output to CPU to process with numpy\u001b[0m\u001b[1;33m\u001b[0m\u001b[1;33m\u001b[0m\u001b[0m\n",
      "\u001b[1;31mTypeError\u001b[0m: new(): data must be a sequence (got numpy.float64)"
     ]
    }
   ],
   "source": [
    "### To visualize the prediction for a single sample, set its number as \"check_one\" parameter\n",
    "\n",
    "import matplotlib.pyplot as plt \n",
    "from matplotlib import style\n",
    "\n",
    "style.use(\"ggplot\")\n",
    "\n",
    "fig = plt.figure()\n",
    "\n",
    "check_one = 1\n",
    "\n",
    "X_one = torch.Tensor(all_data[check_one][0]) \n",
    "y_label = torch.Tensor([i[1] for i in all_data[check_one:check_one+1]]) \n",
    "y_one = torch.Tensor(all_data[check_one][1]) \n",
    "output_check = net(X_one.view(-1, 1, img_size, img_size).to(device)) \n",
    "y_net = output_check[0].cpu() #copying NN output to CPU to process with numpy \n",
    "y_net = y_net.detach().numpy() #another modification to use numpy \n",
    "y_one = y_one.detach().numpy()\n",
    "\n",
    "ax1 = plt.subplot2grid((2,1), (0,0))\n",
    "\n",
    "times = [i for i in range(0,91)]\n",
    "\n",
    "ax1.plot(times, y_net, label=\"predicted\") \n",
    "ax1.plot(times, y_one, label=\"expected\") \n",
    "ax1.legend(loc=2)\n",
    "\n",
    "plt.show()"
   ]
  },
  {
   "cell_type": "code",
   "execution_count": 7,
   "metadata": {},
   "outputs": [
    {
     "data": {
      "image/png": "[encoded data removed]",
      "text/plain": [
       "<Figure size 432x288 with 1 Axes>"
      ]
     },
     "metadata": {},
     "output_type": "display_data"
    }
   ],
   "source": [
    "### Shows the geometry corresponding to the \"check_one\" sample above\n",
    "import matplotlib.pyplot as plt \n",
    "from matplotlib import style\n",
    "\n",
    "X = torch.Tensor([i[0] for i in all_data[check_one:check_one+1]])\n",
    "#X = X *255\n",
    "\n",
    "plt.imshow(X.view(56,56))\n",
    "plt.show()"
   ]
  },
  {
   "cell_type": "code",
   "execution_count": 12,
   "metadata": {},
   "outputs": [
    {
     "name": "stdout",
     "output_type": "stream",
     "text": [
      "checking 0'th' sample\n",
      "checking 500'th' sample\n",
      "checking 1000'th' sample\n",
      "checking 1500'th' sample\n",
      "checking 2000'th' sample\n",
      "checking 2500'th' sample\n",
      "checking 3000'th' sample\n",
      "training accuracy: 0.9346544950564845\n"
     ]
    }
   ],
   "source": [
    "### TRAINING DATA ACCURACY CHECK ###\n",
    "\n",
    "all_train = [None] *len(training_data)\n",
    "\n",
    "for check_one in range(len(training_data)):\n",
    "    if check_one%500 == 0:\n",
    "        print(\"checking {}'th sample\".format(check_one))\n",
    "    X_one = torch.Tensor(training_data[check_one][0]) \n",
    "    y_one = torch.Tensor(training_data[check_one][1]).to(device)\n",
    "    y_net = net(X_one.view(-1, 1, img_size, img_size).to(device))[0]\n",
    "\n",
    "    error = abs(torch.mean(y_net-y_one)) / torch.mean(y_one) \n",
    "    error = error.cpu().detach().numpy()\n",
    "\n",
    "    if error > 1:\n",
    "        error = 1\n",
    "    elif error < 0:\n",
    "        error = 0\n",
    "\n",
    "    acc = 1 - error\n",
    "    \n",
    "    y_net = y_net.cpu().detach().numpy() #another modification to use numpy \n",
    "    y_one = y_one.cpu().detach().numpy()\n",
    "    \n",
    "    all_train[check_one] = acc\n",
    "    \n",
    "acc_train = sum(all_train)/len(all_train)\n",
    "\n",
    "print(\"training accuracy:\",acc_train)"
   ]
  },
  {
   "cell_type": "code",
   "execution_count": null,
   "metadata": {},
   "outputs": [],
   "source": [
    "### VALIDATION ACCURACY CHECK\n",
    "import time\n",
    "start_time = time.time()\n",
    "\n",
    "all_val = [None] * len(validation_data)\n",
    "\n",
    "for check_one in range(len(validation_data)):\n",
    "    if check_one%500 == 0:\n",
    "        print(\"checking {}'th sample\".format(check_one))\n",
    "    \n",
    "    X_one = torch.Tensor(validation_data[check_one][0]) \n",
    "    y_one = torch.Tensor(validation_data[check_one][1]).to(device)\n",
    "    y_net = net(X_one.view(-1, 1, img_size, img_size).to(device))[0]\n",
    "\n",
    "    error = abs(torch.mean(y_net-y_one)) / torch.mean(y_one) \n",
    "    error = error.cpu()\n",
    "    error = error.detach().numpy()\n",
    "\n",
    "    if error > 1:\n",
    "        error = 1\n",
    "    elif error < 0:\n",
    "        error = 0\n",
    "\n",
    "    acc = 1 - error\n",
    "    \n",
    "    y_net = y_net.cpu().detach().numpy() #another modification to use numpy \n",
    "    y_one = y_one.cpu().detach().numpy()\n",
    "    \n",
    "    all_val[check_one] = acc\n",
    "    \n",
    "acc_val = sum(all_val)/len(all_val)\n",
    "\n",
    "print(\"validation accuracy:\", acc_val)\n",
    "print(\"--- %s seconds ---\" % (time.time() - start_time))"
   ]
  },
  {
   "cell_type": "code",
   "execution_count": 9,
   "metadata": {},
   "outputs": [
    {
     "name": "stdout",
     "output_type": "stream",
     "text": [
      "checking 0'th sample\n",
      "checking 500'th sample\n",
      "checking 1000'th sample\n",
      "checking 1500'th sample\n",
      "checking 2000'th sample\n",
      "checking 2500'th sample\n",
      "checking 3000'th sample\n",
      "checking 3500'th sample\n",
      "--- 74.42495250701904 seconds ---\n"
     ]
    }
   ],
   "source": [
    "#checking the time required to make predictions for a complete dataset\n",
    "\n",
    "import time\n",
    "start_time = time.time()\n",
    "\n",
    "for check_one in range(len(all_data[0:4000])):\n",
    "    if check_one%500 == 0:\n",
    "        print(\"checking {}'th sample\".format(check_one))\n",
    "    X_one = torch.Tensor(all_data[check_one][0]) \n",
    "    #y_one = torch.Tensor(training_data[check_one][1]).to(device)\n",
    "    y_net = net(X_one.view(-1, 1, img_size, img_size).to(device))[0]\n",
    "\n",
    "print(\"--- %s seconds ---\" % (time.time() - start_time))"
   ]
  },
  {
   "cell_type": "code",
   "execution_count": null,
   "metadata": {},
   "outputs": [],
   "source": []
  },
  {
   "cell_type": "code",
   "execution_count": null,
   "metadata": {},
   "outputs": [],
   "source": []
  },
  {
   "cell_type": "code",
   "execution_count": null,
   "metadata": {},
   "outputs": [],
   "source": []
  },
  {
   "cell_type": "code",
   "execution_count": 22,
   "metadata": {},
   "outputs": [
    {
     "data": {
      "image/png": "[encoded data removed]",
      "text/plain": [
       "<Figure size 432x288 with 1 Axes>"
      ]
     },
     "metadata": {},
     "output_type": "display_data"
    }
   ],
   "source": [
    "import matplotlib.pyplot as plt \n",
    "from matplotlib import style\n",
    "\n",
    "style.use(\"ggplot\")\n",
    "\n",
    "fig = plt.figure()\n",
    "\n",
    "##20, 25, 28, 31, 33 are perfect and relevant\n",
    "\n",
    "#though 29 relevant and incorrect\n",
    "\n",
    "#253 #160\n",
    "#[206, 974, 1400, 1569, 3659]\n",
    "\n",
    "#25 for a pictures\n",
    "\n",
    "check_one = 206\n",
    "\n",
    "X_one = torch.Tensor(all_data[check_one][0]) \n",
    "y_label = torch.Tensor([i[1] for i in all_data[check_one:check_one+1]]) \n",
    "y_one = torch.Tensor(all_data[check_one][1]) \n",
    "output_check = net(X_one.view(-1, 1, img_size, img_size).to(device)) \n",
    "y_net = output_check[0].cpu() #copying NN output to CPU to process with numpy \n",
    "y_net = y_net.detach().numpy() #another modification to use numpy \n",
    "y_one = y_one.detach().numpy()\n",
    "\n",
    "ax1 = plt.subplot2grid((2,1), (0,0))\n",
    "\n",
    "times = [i for i in range(0,91)]\n",
    "\n",
    "ax1.plot(times, y_net, label=\"predicted\") \n",
    "ax1.plot(times, y_one, label=\"expected\") \n",
    "ax1.legend(loc=2)\n",
    "\n",
    "plt.show()"
   ]
  },
  {
   "cell_type": "code",
   "execution_count": null,
   "metadata": {},
   "outputs": [],
   "source": []
  },
  {
   "cell_type": "code",
   "execution_count": null,
   "metadata": {},
   "outputs": [],
   "source": []
  }
 ],
 "metadata": {
  "kernelspec": {
   "display_name": "Python 3",
   "language": "python",
   "name": "python3"
  },
  "language_info": {
   "codemirror_mode": {
    "name": "ipython",
    "version": 3
   },
   "file_extension": ".py",
   "mimetype": "text/x-python",
   "name": "python",
   "nbconvert_exporter": "python",
   "pygments_lexer": "ipython3",
   "version": "3.7.4"
  }
 },
 "nbformat": 4,
 "nbformat_minor": 4
}
